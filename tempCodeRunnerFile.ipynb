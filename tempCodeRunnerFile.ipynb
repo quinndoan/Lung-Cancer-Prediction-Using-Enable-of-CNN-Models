    max_index = np.argmax(pred)  # Get the index of the highest value in pred
